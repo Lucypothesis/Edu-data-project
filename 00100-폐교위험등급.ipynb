{
 "cells": [
  {
   "cell_type": "code",
   "execution_count": 1,
   "metadata": {},
   "outputs": [],
   "source": [
    "import pandas as pd"
   ]
  },
  {
   "cell_type": "code",
   "execution_count": 5,
   "metadata": {},
   "outputs": [],
   "source": [
    "path = '/Users/yniyunj/Desktop/교육공공데이터/데이터/002-전출입생수/tableau/'\n",
    "df_map = pd.read_csv(path + 'df_map.csv')\n",
    "df_map = df_map[['학교명', '폐교위험등급']]"
   ]
  },
  {
   "cell_type": "code",
   "execution_count": 6,
   "metadata": {},
   "outputs": [
    {
     "data": {
      "text/html": [
       "<div>\n",
       "<style scoped>\n",
       "    .dataframe tbody tr th:only-of-type {\n",
       "        vertical-align: middle;\n",
       "    }\n",
       "\n",
       "    .dataframe tbody tr th {\n",
       "        vertical-align: top;\n",
       "    }\n",
       "\n",
       "    .dataframe thead th {\n",
       "        text-align: right;\n",
       "    }\n",
       "</style>\n",
       "<table border=\"1\" class=\"dataframe\">\n",
       "  <thead>\n",
       "    <tr style=\"text-align: right;\">\n",
       "      <th></th>\n",
       "      <th>학교명</th>\n",
       "      <th>폐교위험등급</th>\n",
       "    </tr>\n",
       "  </thead>\n",
       "  <tbody>\n",
       "    <tr>\n",
       "      <th>0</th>\n",
       "      <td>군남초등학교</td>\n",
       "      <td>위험</td>\n",
       "    </tr>\n",
       "    <tr>\n",
       "      <th>1</th>\n",
       "      <td>수한초등학교</td>\n",
       "      <td>위험</td>\n",
       "    </tr>\n",
       "    <tr>\n",
       "      <th>2</th>\n",
       "      <td>가곡초등학교보발분교장</td>\n",
       "      <td>위험</td>\n",
       "    </tr>\n",
       "    <tr>\n",
       "      <th>3</th>\n",
       "      <td>탄부초등학교</td>\n",
       "      <td>위험</td>\n",
       "    </tr>\n",
       "    <tr>\n",
       "      <th>4</th>\n",
       "      <td>문광초등학교</td>\n",
       "      <td>위험</td>\n",
       "    </tr>\n",
       "    <tr>\n",
       "      <th>5</th>\n",
       "      <td>괴산명덕초등학교</td>\n",
       "      <td>위험</td>\n",
       "    </tr>\n",
       "    <tr>\n",
       "      <th>6</th>\n",
       "      <td>부용초등학교</td>\n",
       "      <td>위험</td>\n",
       "    </tr>\n",
       "    <tr>\n",
       "      <th>7</th>\n",
       "      <td>청천초등학교</td>\n",
       "      <td>위험</td>\n",
       "    </tr>\n",
       "    <tr>\n",
       "      <th>8</th>\n",
       "      <td>종곡초등학교</td>\n",
       "      <td>위험</td>\n",
       "    </tr>\n",
       "    <tr>\n",
       "      <th>9</th>\n",
       "      <td>대가초등학교</td>\n",
       "      <td>위험</td>\n",
       "    </tr>\n",
       "    <tr>\n",
       "      <th>10</th>\n",
       "      <td>동이초등학교</td>\n",
       "      <td>위험</td>\n",
       "    </tr>\n",
       "    <tr>\n",
       "      <th>11</th>\n",
       "      <td>가곡초등학교대곡분교장</td>\n",
       "      <td>위험</td>\n",
       "    </tr>\n",
       "    <tr>\n",
       "      <th>12</th>\n",
       "      <td>단천초등학교</td>\n",
       "      <td>위험</td>\n",
       "    </tr>\n",
       "    <tr>\n",
       "      <th>13</th>\n",
       "      <td>목도초등학교</td>\n",
       "      <td>위험</td>\n",
       "    </tr>\n",
       "  </tbody>\n",
       "</table>\n",
       "</div>"
      ],
      "text/plain": [
       "            학교명 폐교위험등급\n",
       "0        군남초등학교     위험\n",
       "1        수한초등학교     위험\n",
       "2   가곡초등학교보발분교장     위험\n",
       "3        탄부초등학교     위험\n",
       "4        문광초등학교     위험\n",
       "5      괴산명덕초등학교     위험\n",
       "6        부용초등학교     위험\n",
       "7        청천초등학교     위험\n",
       "8        종곡초등학교     위험\n",
       "9        대가초등학교     위험\n",
       "10       동이초등학교     위험\n",
       "11  가곡초등학교대곡분교장     위험\n",
       "12       단천초등학교     위험\n",
       "13       목도초등학교     위험"
      ]
     },
     "execution_count": 6,
     "metadata": {},
     "output_type": "execute_result"
    }
   ],
   "source": [
    "df_map[df_map['폐교위험등급'] == '위험']"
   ]
  }
 ],
 "metadata": {
  "kernelspec": {
   "display_name": "Python 3",
   "language": "python",
   "name": "python3"
  },
  "language_info": {
   "codemirror_mode": {
    "name": "ipython",
    "version": 3
   },
   "file_extension": ".py",
   "mimetype": "text/x-python",
   "name": "python",
   "nbconvert_exporter": "python",
   "pygments_lexer": "ipython3",
   "version": "3.10.6"
  }
 },
 "nbformat": 4,
 "nbformat_minor": 2
}
