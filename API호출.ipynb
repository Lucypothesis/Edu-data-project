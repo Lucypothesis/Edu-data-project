{
 "cells": [
  {
   "cell_type": "code",
   "execution_count": 1,
   "metadata": {},
   "outputs": [],
   "source": [
    "import requests\n",
    "import xml.etree.ElementTree as ET  # 또는 json"
   ]
  },
  {
   "cell_type": "code",
   "execution_count": null,
   "metadata": {},
   "outputs": [],
   "source": []
  },
  {
   "cell_type": "code",
   "execution_count": null,
   "metadata": {},
   "outputs": [],
   "source": [
    "# 발급받은 API Key\n",
    "api_key = \"여기에_인증키\"\n",
    "\n",
    "# 요청 URL (예: XML 포맷으로 요청)\n",
    "url = f\"https://api.example.go.kr/openapi?serviceKey={api_key}&param1=value1\"\n",
    "\n",
    "# GET 요청\n",
    "response = requests.get(url)\n",
    "\n",
    "# 응답 처리 (XML 기준)\n",
    "root = ET.fromstring(response.content)\n",
    "for item in root.findall(\".//item\"):\n",
    "    print(item.find(\"schoolName\").text)\n"
   ]
  }
 ],
 "metadata": {
  "kernelspec": {
   "display_name": "Python 3",
   "language": "python",
   "name": "python3"
  },
  "language_info": {
   "codemirror_mode": {
    "name": "ipython",
    "version": 3
   },
   "file_extension": ".py",
   "mimetype": "text/x-python",
   "name": "python",
   "nbconvert_exporter": "python",
   "pygments_lexer": "ipython3",
   "version": "3.10.6"
  }
 },
 "nbformat": 4,
 "nbformat_minor": 2
}
